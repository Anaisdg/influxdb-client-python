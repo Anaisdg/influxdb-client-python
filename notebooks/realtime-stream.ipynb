{
 "cells": [
  {
   "cell_type": "markdown",
   "metadata": {},
   "source": [
    "# Example InfluxDB Jupyter notebook - stream data\n",
    "\n",
    "This example demonstrates how to query data from InfluxDB 2.0 using Flux and display results in real time.\n",
    "\n",
    "Prerequisites:\n",
    "1. Start InfluxDB: `./scripts/influxdb-restart.sh`\n",
    "2. Start Telegraf: `telegraf  -config ./notebooks/telegraf.conf`\n",
    "3. install fallowing dependencies: `rx`, `pandas`, `streamz`, `hvplot`"
   ]
  },
  {
   "cell_type": "code",
   "execution_count": null,
   "metadata": {},
   "outputs": [],
   "source": [
    "# Import dev version of client\n",
    "\n",
    "import os\n",
    "import sys\n",
    "\n",
    "sys.path.insert(0, os.path.abspath('../'))"
   ]
  },
  {
   "cell_type": "code",
   "execution_count": null,
   "metadata": {},
   "outputs": [],
   "source": [
    "from datetime import timedelta\n",
    "\n",
    "import hvplot.streamz\n",
    "import pandas as pd\n",
    "import rx\n",
    "from rx import operators as ops\n",
    "\n",
    "from streamz.dataframe import Random, DataFrame\n",
    "from streamz import Stream\n",
    "from influxdb_client import InfluxDBClient"
   ]
  },
  {
   "cell_type": "code",
   "execution_count": null,
   "metadata": {},
   "outputs": [],
   "source": [
    "def source_data(auto_refresh: int, sink: Stream):\n",
    "    rx \\\n",
    "        .interval(period=timedelta(seconds=auto_refresh)) \\\n",
    "        .pipe(ops.map(lambda start: f'from(bucket: \"my-bucket\") '\n",
    "                                    f'|> range(start: -{auto_refresh}s, stop: now()) '\n",
    "                                    f'|> filter(fn: (r) => (r._measurement == \"cpu\") or (r._measurement == \"mem\")) ')) \\\n",
    "        .pipe(ops.map(lambda query: client.query_api().query_stream(query))) \\\n",
    "        .pipe(ops.flat_map(lambda records: rx.from_iterable(records))) \\\n",
    "        .subscribe(observer=lambda record: sink.emit(record), on_error=lambda error: print(error))\n",
    "    pass"
   ]
  },
  {
   "cell_type": "code",
   "execution_count": null,
   "metadata": {},
   "outputs": [],
   "source": [
    "client = InfluxDBClient(url=\"http://localhost:9999\", token=\"my-token\", org=\"my-org\", debug=False)\n",
    "\n",
    "sink = Stream()\n",
    "source_data(auto_refresh=5, sink=sink)"
   ]
  },
  {
   "cell_type": "code",
   "execution_count": null,
   "metadata": {},
   "outputs": [],
   "source": [
    "cpu_example = pd.DataFrame({'value': []}, columns=['value'])\n",
    "\n",
    "cpu_sink = sink\\\n",
    "    .filter(lambda record: (record[\"_measurement\"] == \"cpu\") & (record[\"_field\"] == \"usage_user\"))\\\n",
    "    .map(lambda record: pd.DataFrame({'value': [record[\"_value\"]]}, columns=['value'], index=[record[\"_time\"]]))\n",
    "cpu = DataFrame(cpu_sink, example=cpu_example)"
   ]
  },
  {
   "cell_type": "code",
   "execution_count": null,
   "metadata": {},
   "outputs": [],
   "source": [
    "mem_example = pd.DataFrame({'field': [], 'value': []}, columns=['field', 'value'])\n",
    "\n",
    "mem_sink = sink \\\n",
    "    .filter(lambda record: record[\"_measurement\"] == \"mem\") \\\n",
    "    .filter(lambda record: record[\"_field\"] in [\"total\", \"used\", \"free\", \"available\"]) \\\n",
    "    .map(lambda record: pd.DataFrame({'field': record[\"_field\"], 'value': record[\"_value\"]},\n",
    "                                     columns=['field', 'value'], index=[record[\"_time\"], record[\"_field\"]]))\n",
    "mem = DataFrame(mem_sink, example=mem_example)"
   ]
  },
  {
   "cell_type": "code",
   "execution_count": null,
   "metadata": {
    "scrolled": true
   },
   "outputs": [],
   "source": [
    "from bokeh.models.formatters import DatetimeTickFormatter\n",
    "\n",
    "# Time formatter\n",
    "formatter = DatetimeTickFormatter(\n",
    "    microseconds = [\"%H:%M:%S\"],\n",
    "    milliseconds = [\"%H:%M:%S\"],\n",
    "    seconds = [\"%H:%M:%S\"],\n",
    "    minsec = [\"%H:%M:%S\"],\n",
    "    minutes = [\"%H:%M:%S\"],\n",
    "    hourmin = [\"%H:%M:%S\"],\n",
    "    hours=[\"%H:%M:%S\"],\n",
    "    days=[\"%H:%M:%S\"],\n",
    "    months=[\"%H:%M:%S\"],\n",
    "    years=[\"%H:%M:%S\"],\n",
    ")\n",
    "\n",
    "cpu.hvplot(width=700, backlog=50, title='CPU % usage', xlabel='Time', ylabel='%', xformatter=formatter)"
   ]
  },
  {
   "cell_type": "code",
   "execution_count": null,
   "metadata": {},
   "outputs": [],
   "source": [
    " mem.groupby('field').sum().hvplot.bar()"
   ]
  },
  {
   "cell_type": "code",
   "execution_count": null,
   "metadata": {},
   "outputs": [],
   "source": []
  }
 ],
 "metadata": {
  "kernelspec": {
   "display_name": "Python 3",
   "language": "python",
   "name": "python3"
  },
  "language_info": {
   "codemirror_mode": {
    "name": "ipython",
    "version": 3
   },
   "file_extension": ".py",
   "mimetype": "text/x-python",
   "name": "python",
   "nbconvert_exporter": "python",
   "pygments_lexer": "ipython3",
   "version": "3.7.4"
  }
 },
 "nbformat": 4,
 "nbformat_minor": 2
}
